{
  "nbformat": 4,
  "nbformat_minor": 0,
  "metadata": {
    "colab": {
      "name": "Untitled8.ipynb",
      "version": "0.3.2",
      "provenance": [],
      "include_colab_link": true
    },
    "kernelspec": {
      "name": "python3",
      "display_name": "Python 3"
    },
    "accelerator": "TPU"
  },
  "cells": [
    {
      "cell_type": "markdown",
      "metadata": {
        "id": "view-in-github",
        "colab_type": "text"
      },
      "source": [
        "<a href=\"https://colab.research.google.com/github/harsh199910/graduate_admissions_prediction_machine_learning/blob/master/Untitled8.ipynb\" target=\"_parent\"><img src=\"https://colab.research.google.com/assets/colab-badge.svg\" alt=\"Open In Colab\"/></a>"
      ]
    },
    {
      "metadata": {
        "id": "6ell1P_QXXSk",
        "colab_type": "code",
        "colab": {}
      },
      "cell_type": "code",
      "source": [
        "import pandas as pd\n",
        "import numpy as np\n",
        "import matplotlib.pyplot as plt "
      ],
      "execution_count": 0,
      "outputs": []
    },
    {
      "metadata": {
        "id": "_Cw3xLLTX1r3",
        "colab_type": "code",
        "colab": {
          "base_uri": "https://localhost:8080/",
          "height": 195
        },
        "outputId": "5fb06d75-e65f-485d-b98b-3e6cff3fbc1c"
      },
      "cell_type": "code",
      "source": [
        "addmission_dataset = pd.read_csv(\"Admission_Predict_ver1.2.csv\")\n",
        "addmission_dataset.head()"
      ],
      "execution_count": 70,
      "outputs": [
        {
          "output_type": "execute_result",
          "data": {
            "text/html": [
              "<div>\n",
              "<style scoped>\n",
              "    .dataframe tbody tr th:only-of-type {\n",
              "        vertical-align: middle;\n",
              "    }\n",
              "\n",
              "    .dataframe tbody tr th {\n",
              "        vertical-align: top;\n",
              "    }\n",
              "\n",
              "    .dataframe thead th {\n",
              "        text-align: right;\n",
              "    }\n",
              "</style>\n",
              "<table border=\"1\" class=\"dataframe\">\n",
              "  <thead>\n",
              "    <tr style=\"text-align: right;\">\n",
              "      <th></th>\n",
              "      <th>Serial No.</th>\n",
              "      <th>GRE Score</th>\n",
              "      <th>TOEFL Score</th>\n",
              "      <th>University Rating</th>\n",
              "      <th>SOP</th>\n",
              "      <th>LOR</th>\n",
              "      <th>CGPA</th>\n",
              "      <th>Research</th>\n",
              "      <th>Chance of Admit</th>\n",
              "    </tr>\n",
              "  </thead>\n",
              "  <tbody>\n",
              "    <tr>\n",
              "      <th>0</th>\n",
              "      <td>1</td>\n",
              "      <td>337</td>\n",
              "      <td>118</td>\n",
              "      <td>4</td>\n",
              "      <td>4.5</td>\n",
              "      <td>4.5</td>\n",
              "      <td>9.65</td>\n",
              "      <td>1</td>\n",
              "      <td>1</td>\n",
              "    </tr>\n",
              "    <tr>\n",
              "      <th>1</th>\n",
              "      <td>2</td>\n",
              "      <td>324</td>\n",
              "      <td>107</td>\n",
              "      <td>4</td>\n",
              "      <td>4.0</td>\n",
              "      <td>4.5</td>\n",
              "      <td>8.87</td>\n",
              "      <td>1</td>\n",
              "      <td>1</td>\n",
              "    </tr>\n",
              "    <tr>\n",
              "      <th>2</th>\n",
              "      <td>3</td>\n",
              "      <td>316</td>\n",
              "      <td>104</td>\n",
              "      <td>3</td>\n",
              "      <td>3.0</td>\n",
              "      <td>3.5</td>\n",
              "      <td>8.00</td>\n",
              "      <td>1</td>\n",
              "      <td>1</td>\n",
              "    </tr>\n",
              "    <tr>\n",
              "      <th>3</th>\n",
              "      <td>4</td>\n",
              "      <td>322</td>\n",
              "      <td>110</td>\n",
              "      <td>3</td>\n",
              "      <td>3.5</td>\n",
              "      <td>2.5</td>\n",
              "      <td>8.67</td>\n",
              "      <td>1</td>\n",
              "      <td>1</td>\n",
              "    </tr>\n",
              "    <tr>\n",
              "      <th>4</th>\n",
              "      <td>5</td>\n",
              "      <td>314</td>\n",
              "      <td>103</td>\n",
              "      <td>2</td>\n",
              "      <td>2.0</td>\n",
              "      <td>3.0</td>\n",
              "      <td>8.21</td>\n",
              "      <td>0</td>\n",
              "      <td>1</td>\n",
              "    </tr>\n",
              "  </tbody>\n",
              "</table>\n",
              "</div>"
            ],
            "text/plain": [
              "   Serial No.  GRE Score  TOEFL Score  University Rating  SOP  LOR   CGPA  \\\n",
              "0           1        337          118                  4  4.5   4.5  9.65   \n",
              "1           2        324          107                  4  4.0   4.5  8.87   \n",
              "2           3        316          104                  3  3.0   3.5  8.00   \n",
              "3           4        322          110                  3  3.5   2.5  8.67   \n",
              "4           5        314          103                  2  2.0   3.0  8.21   \n",
              "\n",
              "   Research  Chance of Admit   \n",
              "0         1                 1  \n",
              "1         1                 1  \n",
              "2         1                 1  \n",
              "3         1                 1  \n",
              "4         0                 1  "
            ]
          },
          "metadata": {
            "tags": []
          },
          "execution_count": 70
        }
      ]
    },
    {
      "metadata": {
        "id": "IFa7Qge_Y5pp",
        "colab_type": "code",
        "colab": {}
      },
      "cell_type": "code",
      "source": [
        "x=addmission_dataset.iloc[:, 1:8].values\n",
        "y=addmission_dataset.iloc[:, 8].values"
      ],
      "execution_count": 0,
      "outputs": []
    },
    {
      "metadata": {
        "id": "ZY3kJ2GwZWat",
        "colab_type": "code",
        "colab": {}
      },
      "cell_type": "code",
      "source": [
        "from sklearn.model_selection import train_test_split\n",
        "x_train, x_test, y_train, y_test = train_test_split(x, y, test_size=0.2, random_state=0)\n",
        "from sklearn.preprocessing import StandardScaler\n",
        "sc = StandardScaler()\n",
        "x_train = sc.fit_transform(x_train)\n",
        "x_test = sc.fit_transform(x_test)\n"
      ],
      "execution_count": 0,
      "outputs": []
    },
    {
      "metadata": {
        "id": "dVJeZjY3gZ2J",
        "colab_type": "code",
        "colab": {}
      },
      "cell_type": "code",
      "source": [
        "import keras \n",
        "from keras.models import Sequential\n",
        "from keras.layers import Dense "
      ],
      "execution_count": 0,
      "outputs": []
    },
    {
      "metadata": {
        "id": "pyyXYi2hg9T2",
        "colab_type": "code",
        "colab": {}
      },
      "cell_type": "code",
      "source": [
        "classifier = Sequential()\n",
        "classifier.add(Dense(units =4, kernel_initializer = 'uniform', activation = 'relu', input_dim = 7))"
      ],
      "execution_count": 0,
      "outputs": []
    },
    {
      "metadata": {
        "id": "LpIfo_6sk9wq",
        "colab_type": "code",
        "colab": {}
      },
      "cell_type": "code",
      "source": [
        "classifier.add(Dense(units = 4, kernel_initializer = 'uniform', activation = 'relu'))\n",
        "classifier.add(Dense(units = 4, kernel_initializer = 'uniform', activation = 'relu'))\n",
        "classifier.add(Dense(units = 4, kernel_initializer = 'uniform', activation = 'relu'))"
      ],
      "execution_count": 0,
      "outputs": []
    },
    {
      "metadata": {
        "id": "jjsG36X-lVH8",
        "colab_type": "code",
        "colab": {}
      },
      "cell_type": "code",
      "source": [
        "classifier.add(Dense(units = 1, kernel_initializer = 'uniform', activation = 'sigmoid'))\n",
        "classifier.compile(optimizer = 'adam', loss = 'binary_crossentropy', metrics = ['accuracy'])\n"
      ],
      "execution_count": 0,
      "outputs": []
    },
    {
      "metadata": {
        "id": "5KanZ3yjmScn",
        "colab_type": "code",
        "colab": {
          "base_uri": "https://localhost:8080/",
          "height": 3554
        },
        "outputId": "40fc7a77-f3d2-4b76-fc02-9124020e43c1"
      },
      "cell_type": "code",
      "source": [
        "classifier.fit(x_train, y_train, batch_size = 10, epochs = 100)"
      ],
      "execution_count": 78,
      "outputs": [
        {
          "output_type": "stream",
          "text": [
            "Epoch 1/100\n",
            "61/61 [==============================] - 0s 344us/step - loss: 0.3338 - acc: 0.8361\n",
            "Epoch 2/100\n",
            "61/61 [==============================] - 0s 252us/step - loss: 0.3334 - acc: 0.8361\n",
            "Epoch 3/100\n",
            "61/61 [==============================] - 0s 237us/step - loss: 0.3327 - acc: 0.8361\n",
            "Epoch 4/100\n",
            "61/61 [==============================] - 0s 249us/step - loss: 0.3321 - acc: 0.8361\n",
            "Epoch 5/100\n",
            "61/61 [==============================] - 0s 234us/step - loss: 0.3315 - acc: 0.8361\n",
            "Epoch 6/100\n",
            "61/61 [==============================] - 0s 225us/step - loss: 0.3310 - acc: 0.8361\n",
            "Epoch 7/100\n",
            "61/61 [==============================] - 0s 266us/step - loss: 0.3305 - acc: 0.8361\n",
            "Epoch 8/100\n",
            "61/61 [==============================] - 0s 251us/step - loss: 0.3297 - acc: 0.8361\n",
            "Epoch 9/100\n",
            "61/61 [==============================] - 0s 261us/step - loss: 0.3296 - acc: 0.8361\n",
            "Epoch 10/100\n",
            "61/61 [==============================] - 0s 244us/step - loss: 0.3281 - acc: 0.8361\n",
            "Epoch 11/100\n",
            "61/61 [==============================] - 0s 253us/step - loss: 0.3274 - acc: 0.8361\n",
            "Epoch 12/100\n",
            "61/61 [==============================] - 0s 232us/step - loss: 0.3269 - acc: 0.8361\n",
            "Epoch 13/100\n",
            "61/61 [==============================] - 0s 215us/step - loss: 0.3262 - acc: 0.8361\n",
            "Epoch 14/100\n",
            "61/61 [==============================] - 0s 334us/step - loss: 0.3257 - acc: 0.8361\n",
            "Epoch 15/100\n",
            "61/61 [==============================] - 0s 202us/step - loss: 0.3252 - acc: 0.8361\n",
            "Epoch 16/100\n",
            "61/61 [==============================] - 0s 304us/step - loss: 0.3247 - acc: 0.8361\n",
            "Epoch 17/100\n",
            "61/61 [==============================] - 0s 254us/step - loss: 0.3240 - acc: 0.8361\n",
            "Epoch 18/100\n",
            "61/61 [==============================] - 0s 230us/step - loss: 0.3231 - acc: 0.8361\n",
            "Epoch 19/100\n",
            "61/61 [==============================] - 0s 191us/step - loss: 0.3225 - acc: 0.8361\n",
            "Epoch 20/100\n",
            "61/61 [==============================] - 0s 280us/step - loss: 0.3220 - acc: 0.8361\n",
            "Epoch 21/100\n",
            "61/61 [==============================] - 0s 282us/step - loss: 0.3214 - acc: 0.8361\n",
            "Epoch 22/100\n",
            "61/61 [==============================] - 0s 256us/step - loss: 0.3210 - acc: 0.8361\n",
            "Epoch 23/100\n",
            "61/61 [==============================] - 0s 241us/step - loss: 0.3205 - acc: 0.8361\n",
            "Epoch 24/100\n",
            "61/61 [==============================] - 0s 267us/step - loss: 0.3200 - acc: 0.8361\n",
            "Epoch 25/100\n",
            "61/61 [==============================] - 0s 258us/step - loss: 0.3199 - acc: 0.8361\n",
            "Epoch 26/100\n",
            "61/61 [==============================] - 0s 252us/step - loss: 0.3188 - acc: 0.8361\n",
            "Epoch 27/100\n",
            "61/61 [==============================] - 0s 244us/step - loss: 0.3187 - acc: 0.8361\n",
            "Epoch 28/100\n",
            "61/61 [==============================] - 0s 253us/step - loss: 0.3175 - acc: 0.8361\n",
            "Epoch 29/100\n",
            "61/61 [==============================] - 0s 289us/step - loss: 0.3175 - acc: 0.8361\n",
            "Epoch 30/100\n",
            "61/61 [==============================] - 0s 260us/step - loss: 0.3167 - acc: 0.8361\n",
            "Epoch 31/100\n",
            "61/61 [==============================] - 0s 293us/step - loss: 0.3156 - acc: 0.8361\n",
            "Epoch 32/100\n",
            "61/61 [==============================] - 0s 304us/step - loss: 0.3150 - acc: 0.8361\n",
            "Epoch 33/100\n",
            "61/61 [==============================] - 0s 372us/step - loss: 0.3145 - acc: 0.8361\n",
            "Epoch 34/100\n",
            "61/61 [==============================] - 0s 269us/step - loss: 0.3140 - acc: 0.8361\n",
            "Epoch 35/100\n",
            "61/61 [==============================] - 0s 280us/step - loss: 0.3133 - acc: 0.8361\n",
            "Epoch 36/100\n",
            "61/61 [==============================] - 0s 218us/step - loss: 0.3130 - acc: 0.8361\n",
            "Epoch 37/100\n",
            "61/61 [==============================] - 0s 257us/step - loss: 0.3125 - acc: 0.8361\n",
            "Epoch 38/100\n",
            "61/61 [==============================] - 0s 281us/step - loss: 0.3120 - acc: 0.8361\n",
            "Epoch 39/100\n",
            "61/61 [==============================] - 0s 254us/step - loss: 0.3117 - acc: 0.8361\n",
            "Epoch 40/100\n",
            "61/61 [==============================] - 0s 351us/step - loss: 0.3109 - acc: 0.8361\n",
            "Epoch 41/100\n",
            "61/61 [==============================] - 0s 225us/step - loss: 0.3108 - acc: 0.8361\n",
            "Epoch 42/100\n",
            "61/61 [==============================] - 0s 230us/step - loss: 0.3101 - acc: 0.8361\n",
            "Epoch 43/100\n",
            "61/61 [==============================] - 0s 230us/step - loss: 0.3095 - acc: 0.8361\n",
            "Epoch 44/100\n",
            "61/61 [==============================] - 0s 279us/step - loss: 0.3090 - acc: 0.8361\n",
            "Epoch 45/100\n",
            "61/61 [==============================] - 0s 301us/step - loss: 0.3081 - acc: 0.8361\n",
            "Epoch 46/100\n",
            "61/61 [==============================] - 0s 296us/step - loss: 0.3075 - acc: 0.8361\n",
            "Epoch 47/100\n",
            "61/61 [==============================] - 0s 291us/step - loss: 0.3069 - acc: 0.8361\n",
            "Epoch 48/100\n",
            "61/61 [==============================] - 0s 267us/step - loss: 0.3061 - acc: 0.8361\n",
            "Epoch 49/100\n",
            "61/61 [==============================] - 0s 273us/step - loss: 0.3057 - acc: 0.8361\n",
            "Epoch 50/100\n",
            "61/61 [==============================] - 0s 320us/step - loss: 0.3049 - acc: 0.8361\n",
            "Epoch 51/100\n",
            "61/61 [==============================] - 0s 282us/step - loss: 0.3040 - acc: 0.8361\n",
            "Epoch 52/100\n",
            "61/61 [==============================] - 0s 317us/step - loss: 0.3035 - acc: 0.8361\n",
            "Epoch 53/100\n",
            "61/61 [==============================] - 0s 311us/step - loss: 0.3026 - acc: 0.8361\n",
            "Epoch 54/100\n",
            "61/61 [==============================] - 0s 272us/step - loss: 0.3022 - acc: 0.8361\n",
            "Epoch 55/100\n",
            "61/61 [==============================] - 0s 350us/step - loss: 0.3017 - acc: 0.8361\n",
            "Epoch 56/100\n",
            "61/61 [==============================] - 0s 212us/step - loss: 0.3013 - acc: 0.8361\n",
            "Epoch 57/100\n",
            "61/61 [==============================] - 0s 253us/step - loss: 0.3007 - acc: 0.8361\n",
            "Epoch 58/100\n",
            "61/61 [==============================] - 0s 237us/step - loss: 0.3002 - acc: 0.8361\n",
            "Epoch 59/100\n",
            "61/61 [==============================] - 0s 245us/step - loss: 0.3002 - acc: 0.8361\n",
            "Epoch 60/100\n",
            "61/61 [==============================] - 0s 236us/step - loss: 0.3002 - acc: 0.8361\n",
            "Epoch 61/100\n",
            "61/61 [==============================] - 0s 262us/step - loss: 0.2998 - acc: 0.8361\n",
            "Epoch 62/100\n",
            "61/61 [==============================] - 0s 230us/step - loss: 0.2991 - acc: 0.8361\n",
            "Epoch 63/100\n",
            "61/61 [==============================] - 0s 260us/step - loss: 0.2987 - acc: 0.8361\n",
            "Epoch 64/100\n",
            "61/61 [==============================] - 0s 257us/step - loss: 0.2980 - acc: 0.8361\n",
            "Epoch 65/100\n",
            "61/61 [==============================] - 0s 376us/step - loss: 0.2976 - acc: 0.8361\n",
            "Epoch 66/100\n",
            "61/61 [==============================] - 0s 325us/step - loss: 0.2971 - acc: 0.8361\n",
            "Epoch 67/100\n",
            "61/61 [==============================] - 0s 292us/step - loss: 0.2966 - acc: 0.8361\n",
            "Epoch 68/100\n",
            "61/61 [==============================] - 0s 254us/step - loss: 0.2960 - acc: 0.8361\n",
            "Epoch 69/100\n",
            "61/61 [==============================] - 0s 305us/step - loss: 0.2955 - acc: 0.8361\n",
            "Epoch 70/100\n",
            "61/61 [==============================] - 0s 271us/step - loss: 0.2958 - acc: 0.8361\n",
            "Epoch 71/100\n",
            "61/61 [==============================] - 0s 314us/step - loss: 0.2954 - acc: 0.8361\n",
            "Epoch 72/100\n",
            "61/61 [==============================] - 0s 346us/step - loss: 0.2953 - acc: 0.8361\n",
            "Epoch 73/100\n",
            "61/61 [==============================] - 0s 283us/step - loss: 0.2945 - acc: 0.8361\n",
            "Epoch 74/100\n",
            "61/61 [==============================] - 0s 267us/step - loss: 0.2939 - acc: 0.8361\n",
            "Epoch 75/100\n",
            "61/61 [==============================] - 0s 306us/step - loss: 0.2934 - acc: 0.8361\n",
            "Epoch 76/100\n",
            "61/61 [==============================] - 0s 303us/step - loss: 0.2929 - acc: 0.8361\n",
            "Epoch 77/100\n",
            "61/61 [==============================] - 0s 288us/step - loss: 0.2924 - acc: 0.8361\n",
            "Epoch 78/100\n",
            "61/61 [==============================] - 0s 239us/step - loss: 0.2920 - acc: 0.8361\n",
            "Epoch 79/100\n",
            "61/61 [==============================] - 0s 321us/step - loss: 0.2914 - acc: 0.8361\n",
            "Epoch 80/100\n",
            "61/61 [==============================] - 0s 307us/step - loss: 0.2907 - acc: 0.8361\n",
            "Epoch 81/100\n",
            "61/61 [==============================] - 0s 304us/step - loss: 0.2901 - acc: 0.8361\n",
            "Epoch 82/100\n",
            "61/61 [==============================] - 0s 283us/step - loss: 0.2902 - acc: 0.8361\n",
            "Epoch 83/100\n",
            "61/61 [==============================] - 0s 230us/step - loss: 0.2904 - acc: 0.8361\n",
            "Epoch 84/100\n",
            "61/61 [==============================] - 0s 253us/step - loss: 0.2900 - acc: 0.8361\n",
            "Epoch 85/100\n",
            "61/61 [==============================] - 0s 232us/step - loss: 0.2902 - acc: 0.8361\n",
            "Epoch 86/100\n",
            "61/61 [==============================] - 0s 233us/step - loss: 0.2894 - acc: 0.8361\n",
            "Epoch 87/100\n",
            "61/61 [==============================] - 0s 278us/step - loss: 0.2888 - acc: 0.8361\n",
            "Epoch 88/100\n",
            "61/61 [==============================] - 0s 356us/step - loss: 0.2888 - acc: 0.8361\n",
            "Epoch 89/100\n",
            "61/61 [==============================] - 0s 247us/step - loss: 0.2881 - acc: 0.8361\n",
            "Epoch 90/100\n",
            "61/61 [==============================] - 0s 257us/step - loss: 0.2877 - acc: 0.8361\n",
            "Epoch 91/100\n",
            "61/61 [==============================] - 0s 313us/step - loss: 0.2870 - acc: 0.8361\n",
            "Epoch 92/100\n",
            "61/61 [==============================] - 0s 223us/step - loss: 0.2866 - acc: 0.8361\n",
            "Epoch 93/100\n",
            "61/61 [==============================] - 0s 277us/step - loss: 0.2859 - acc: 0.8361\n",
            "Epoch 94/100\n",
            "61/61 [==============================] - 0s 330us/step - loss: 0.2854 - acc: 0.8361\n",
            "Epoch 95/100\n",
            "61/61 [==============================] - 0s 268us/step - loss: 0.2848 - acc: 0.8361\n",
            "Epoch 96/100\n",
            "61/61 [==============================] - 0s 330us/step - loss: 0.2839 - acc: 0.8361\n",
            "Epoch 97/100\n",
            "61/61 [==============================] - 0s 267us/step - loss: 0.2836 - acc: 0.8361\n",
            "Epoch 98/100\n",
            "61/61 [==============================] - 0s 239us/step - loss: 0.2829 - acc: 0.8361\n",
            "Epoch 99/100\n",
            "61/61 [==============================] - 0s 270us/step - loss: 0.2825 - acc: 0.8361\n",
            "Epoch 100/100\n",
            "61/61 [==============================] - 0s 286us/step - loss: 0.2821 - acc: 0.8361\n"
          ],
          "name": "stdout"
        },
        {
          "output_type": "execute_result",
          "data": {
            "text/plain": [
              "<keras.callbacks.History at 0x7fb1e7d22ba8>"
            ]
          },
          "metadata": {
            "tags": []
          },
          "execution_count": 78
        }
      ]
    }
  ]
}